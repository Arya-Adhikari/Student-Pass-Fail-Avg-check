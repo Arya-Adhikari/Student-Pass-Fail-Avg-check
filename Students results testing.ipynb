{
 "cells": [
  {
   "cell_type": "code",
   "execution_count": 1,
   "id": "20499406-08ae-4a76-86b7-9aaa67296c5f",
   "metadata": {},
   "outputs": [],
   "source": [
    "# Data of students and their grades in a dictionary format\n",
    "students = [\n",
    "    {\"name\": \"Alice\", \"grades\": {\"Math\": 90, \"Science\": 85, \"History\": 88}},\n",
    "    {\"name\": \"Bob\", \"grades\": {\"Math\": 40, \"Science\": 42, \"History\": 38}},\n",
    "    {\"name\": \"Charlie\", \"grades\": {\"Math\": 75, \"Science\": 70, \"History\": 80}},\n",
    "    {\"name\": \"Diana\", \"grades\": {\"Math\": 95, \"Science\": 92, \"History\": 94}},\n",
    "    {\"name\": \"Eve\", \"grades\": {\"Math\": 65, \"Science\": 60, \"History\": 70}},\n",
    "]"
   ]
  },
  {
   "cell_type": "code",
   "execution_count": 2,
   "id": "3856b445-6864-42e6-9276-93e553f79f1c",
   "metadata": {},
   "outputs": [
    {
     "name": "stdout",
     "output_type": "stream",
     "text": [
      "Alice: Average: 87.67, Highest: 90, Lowest: 85\n",
      "Bob: Average: 40.00, Highest: 42, Lowest: 38\n",
      "Charlie: Average: 75.00, Highest: 80, Lowest: 70\n",
      "Diana: Average: 93.67, Highest: 95, Lowest: 92\n",
      "Eve: Average: 65.00, Highest: 70, Lowest: 60\n",
      "\n",
      "--- Summary ---\n",
      "Student with highest average: Diana (93.67)\n",
      "Number of passed students: 4\n",
      "Number of failed students: 1\n"
     ]
    }
   ],
   "source": [
    "# List to store each student's average, highest, and lowest grades\n",
    "results = []\n",
    "\n",
    "# Step 1: Calculate the average, highest, and lowest grades for each student\n",
    "for student in students:\n",
    "    name = student[\"name\"]\n",
    "    grades = student[\"grades\"]\n",
    "\n",
    "    # Calculate average grade\n",
    "    average_grade = sum(grades.values()) / len(grades)\n",
    "\n",
    "    # Find highest and lowest grade\n",
    "    highest_grade = max(grades.values())\n",
    "    lowest_grade = min(grades.values())\n",
    "\n",
    "    # Store the results\n",
    "    results.append({\n",
    "        \"name\": name,\n",
    "        \"average\": average_grade,\n",
    "        \"highest\": highest_grade,\n",
    "        \"lowest\": lowest_grade\n",
    "    })\n",
    "\n",
    "# Step 2: Determine the highest average grade\n",
    "highest_avg = max(results, key=lambda x: x[\"average\"])\n",
    "\n",
    "# Step 3: Count how many students passed or failed\n",
    "passed_students = [student for student in results if student[\"average\"] >= 50]\n",
    "failed_students = [student for student in results if student[\"average\"] < 50]\n",
    "\n",
    "# Step 4: Print the results\n",
    "for student in results:\n",
    "    print(f\"{student['name']}: Average: {student['average']:.2f}, Highest: {student['highest']}, Lowest: {student['lowest']}\")\n",
    "\n",
    "print(\"\\n--- Summary ---\")\n",
    "print(f\"Student with highest average: {highest_avg['name']} ({highest_avg['average']:.2f})\")\n",
    "print(f\"Number of passed students: {len(passed_students)}\")\n",
    "print(f\"Number of failed students: {len(failed_students)}\")"
   ]
  },
  {
   "cell_type": "code",
   "execution_count": null,
   "id": "9d0a7836-e38f-4746-a88b-a356f3b68bd3",
   "metadata": {},
   "outputs": [],
   "source": []
  }
 ],
 "metadata": {
  "kernelspec": {
   "display_name": "Python 3 (ipykernel)",
   "language": "python",
   "name": "python3"
  },
  "language_info": {
   "codemirror_mode": {
    "name": "ipython",
    "version": 3
   },
   "file_extension": ".py",
   "mimetype": "text/x-python",
   "name": "python",
   "nbconvert_exporter": "python",
   "pygments_lexer": "ipython3",
   "version": "3.12.4"
  }
 },
 "nbformat": 4,
 "nbformat_minor": 5
}
